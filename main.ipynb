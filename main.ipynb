{
 "cells": [
  {
   "cell_type": "code",
   "execution_count": 6,
   "metadata": {},
   "outputs": [],
   "source": [
    "import pandas as pd\n",
    "import seaborn as sns"
   ]
  },
  {
   "cell_type": "code",
   "execution_count": 7,
   "metadata": {},
   "outputs": [
    {
     "name": "stdout",
     "output_type": "stream",
     "text": [
      "   survived  pclass     sex   age  sibsp  parch     fare embarked  class   \n",
      "0         0       3    male  22.0      1      0   7.2500        S  Third  \\\n",
      "1         1       1  female  38.0      1      0  71.2833        C  First   \n",
      "2         1       3  female  26.0      0      0   7.9250        S  Third   \n",
      "3         1       1  female  35.0      1      0  53.1000        S  First   \n",
      "4         0       3    male  35.0      0      0   8.0500        S  Third   \n",
      "\n",
      "     who  adult_male deck  embark_town alive  alone  \n",
      "0    man        True  NaN  Southampton    no  False  \n",
      "1  woman       False    C    Cherbourg   yes  False  \n",
      "2  woman       False  NaN  Southampton   yes   True  \n",
      "3  woman       False    C  Southampton   yes  False  \n",
      "4    man        True  NaN  Southampton    no   True  \n",
      "   survived  pclass   age  sibsp  parch     fare  adult_male  alone  sex_male   \n",
      "0         0       3  22.0      1      0   7.2500        True  False      True  \\\n",
      "1         1       1  38.0      1      0  71.2833       False  False     False   \n",
      "2         1       3  26.0      0      0   7.9250       False   True     False   \n",
      "3         1       1  35.0      1      0  53.1000       False  False     False   \n",
      "4         0       3  35.0      0      0   8.0500        True   True      True   \n",
      "\n",
      "   embarked_Q  ...  who_woman  deck_B  deck_C  deck_D  deck_E  deck_F  deck_G   \n",
      "0       False  ...      False   False   False   False   False   False   False  \\\n",
      "1       False  ...       True   False    True   False   False   False   False   \n",
      "2       False  ...       True   False   False   False   False   False   False   \n",
      "3       False  ...       True   False    True   False   False   False   False   \n",
      "4       False  ...      False   False   False   False   False   False   False   \n",
      "\n",
      "   embark_town_Queenstown  embark_town_Southampton  alive_yes  \n",
      "0                   False                     True      False  \n",
      "1                   False                    False       True  \n",
      "2                   False                     True       True  \n",
      "3                   False                     True       True  \n",
      "4                   False                     True      False  \n",
      "\n",
      "[5 rows x 24 columns]\n"
     ]
    }
   ],
   "source": [
    "# import dataset(Titanic)\n",
    "df = sns.load_dataset('titanic')\n",
    "\n",
    "print(df.head())\n",
    "\n",
    "# data preprocessing\n",
    "# define label\n",
    "label = df['class']\n",
    "\n",
    "# missing values processing\n",
    "mean = df['age'].mean()\n",
    "df['age'] = df['age'].fillna(mean)\n",
    "\n",
    "# create dummy variables\n",
    "df = pd.get_dummies(df, drop_first=True)"
   ]
  }
 ],
 "metadata": {
  "kernelspec": {
   "display_name": "dr-env",
   "language": "python",
   "name": "dr-env"
  },
  "language_info": {
   "codemirror_mode": {
    "name": "ipython",
    "version": 3
   },
   "file_extension": ".py",
   "mimetype": "text/x-python",
   "name": "python",
   "nbconvert_exporter": "python",
   "pygments_lexer": "ipython3",
   "version": "3.10.4"
  },
  "orig_nbformat": 4
 },
 "nbformat": 4,
 "nbformat_minor": 2
}
